{
 "cells": [
  {
   "cell_type": "code",
   "execution_count": null,
   "metadata": {
    "scrolled": false
   },
   "outputs": [
    {
     "name": "stdout",
     "output_type": "stream",
     "text": [
      " CUDA-version: 10010 (11020), cuDNN: 8.0.4, CUDNN_HALF=1, GPU count: 1  \n",
      " OpenCV version: 4.2.0\n",
      " 0 : compute_capability = 350, cudnn_half = 0, GPU: Tesla K40m \n",
      "   layer   filters  size/strd(dil)      input                output\n",
      "   0 conv     32       3 x 3/ 2    768 x 768 x   3 ->  384 x 384 x  32 0.255 BF\n",
      "   1 conv     64       3 x 3/ 2    384 x 384 x  32 ->  192 x 192 x  64 1.359 BF\n",
      "   2 conv     64       3 x 3/ 1    192 x 192 x  64 ->  192 x 192 x  64 2.718 BF\n",
      "   3 route  2 \t\t                       1/2 ->  192 x 192 x  32 \n",
      "   4 conv     32       3 x 3/ 1    192 x 192 x  32 ->  192 x 192 x  32 0.679 BF\n",
      "   5 conv     32       3 x 3/ 1    192 x 192 x  32 ->  192 x 192 x  32 0.679 BF\n",
      "   6 route  5 4 \t                           ->  192 x 192 x  64 \n",
      "   7 conv     64       1 x 1/ 1    192 x 192 x  64 ->  192 x 192 x  64 0.302 BF\n",
      "   8 route  2 7 \t                           ->  192 x 192 x 128 \n",
      "   9 max                2x 2/ 2    192 x 192 x 128 ->   96 x  96 x 128 0.005 BF\n",
      "  10 conv    128       3 x 3/ 1     96 x  96 x 128 ->   96 x  96 x 128 2.718 BF\n",
      "  11 route  10 \t\t                       1/2 ->   96 x  96 x  64 \n",
      "  12 conv     64       3 x 3/ 1     96 x  96 x  64 ->   96 x  96 x  64 0.679 BF\n",
      "  13 conv     64       3 x 3/ 1     96 x  96 x  64 ->   96 x  96 x  64 0.679 BF\n",
      "  14 route  13 12 \t                           ->   96 x  96 x 128 \n",
      "  15 conv    128       1 x 1/ 1     96 x  96 x 128 ->   96 x  96 x 128 0.302 BF\n",
      "  16 route  10 15 \t                           ->   96 x  96 x 256 \n",
      "  17 max                2x 2/ 2     96 x  96 x 256 ->   48 x  48 x 256 0.002 BF\n",
      "  18 conv    256       3 x 3/ 1     48 x  48 x 256 ->   48 x  48 x 256 2.718 BF\n",
      "  19 route  18 \t\t                       1/2 ->   48 x  48 x 128 \n",
      "  20 conv    128       3 x 3/ 1     48 x  48 x 128 ->   48 x  48 x 128 0.679 BF\n",
      "  21 conv    128       3 x 3/ 1     48 x  48 x 128 ->   48 x  48 x 128 0.679 BF\n",
      "  22 route  21 20 \t                           ->   48 x  48 x 256 \n",
      "  23 conv    256       1 x 1/ 1     48 x  48 x 256 ->   48 x  48 x 256 0.302 BF\n",
      "  24 route  18 23 \t                           ->   48 x  48 x 512 \n",
      "  25 max                2x 2/ 2     48 x  48 x 512 ->   24 x  24 x 512 0.001 BF\n",
      "  26 conv    512       3 x 3/ 1     24 x  24 x 512 ->   24 x  24 x 512 2.718 BF\n",
      "  27 conv    256       1 x 1/ 1     24 x  24 x 512 ->   24 x  24 x 256 0.151 BF\n",
      "  28 conv    512       3 x 3/ 1     24 x  24 x 256 ->   24 x  24 x 512 1.359 BF\n",
      "  29 conv     78       1 x 1/ 1     24 x  24 x 512 ->   24 x  24 x  78 0.046 BF\n",
      "  30 yolo\n",
      "[yolo] params: iou loss: ciou (4), iou_norm: 0.07, obj_norm: 1.00, cls_norm: 1.00, delta_norm: 1.00, scale_x_y: 1.05\n",
      "  31 route  27 \t\t                           ->   24 x  24 x 256 \n",
      "  32 conv    128       1 x 1/ 1     24 x  24 x 256 ->   24 x  24 x 128 0.038 BF\n",
      "  33 upsample                 2x    24 x  24 x 128 ->   48 x  48 x 128\n",
      "  34 route  33 23 \t                           ->   48 x  48 x 384 \n",
      "  35 conv    256       3 x 3/ 1     48 x  48 x 384 ->   48 x  48 x 256 4.077 BF\n",
      "  36 conv     78       1 x 1/ 1     48 x  48 x 256 ->   48 x  48 x  78 0.092 BF\n",
      "  37 yolo\n",
      "[yolo] params: iou loss: ciou (4), iou_norm: 0.07, obj_norm: 1.00, cls_norm: 1.00, delta_norm: 1.00, scale_x_y: 1.05\n",
      "  38 route  35 \t\t                           ->   48 x  48 x 256 \n",
      "  39 conv     64       1 x 1/ 1     48 x  48 x 256 ->   48 x  48 x  64 0.075 BF\n",
      "  40 upsample                 2x    48 x  48 x  64 ->   96 x  96 x  64\n",
      "  41 route  40 15 \t                           ->   96 x  96 x 192 \n",
      "  42 conv    128       3 x 3/ 1     96 x  96 x 192 ->   96 x  96 x 128 4.077 BF\n",
      "  43 conv     78       1 x 1/ 1     96 x  96 x 128 ->   96 x  96 x  78 0.184 BF\n",
      "  44 yolo\n",
      "[yolo] params: iou loss: ciou (4), iou_norm: 0.07, obj_norm: 1.00, cls_norm: 1.00, delta_norm: 1.00, scale_x_y: 1.05\n",
      "Total BFLOPS 27.575 \n",
      "avg_outputs = 997120 \n",
      " Allocate additional workspace_size = 0.02 MB \n",
      " 0 : compute_capability = 350, cudnn_half = 0, GPU: Tesla K40m \n",
      "   layer   filters  size/strd(dil)      input                output\n",
      "   0 conv     32       3 x 3/ 2    768 x 768 x   3 ->  384 x 384 x  32 0.255 BF\n",
      "   1 conv     64       3 x 3/ 2    384 x 384 x  32 ->  192 x 192 x  64 1.359 BF\n",
      "   2 conv     64       3 x 3/ 1    192 x 192 x  64 ->  192 x 192 x  64 2.718 BF\n",
      "   3 route  2 \t\t                       1/2 ->  192 x 192 x  32 \n",
      "   4 conv     32       3 x 3/ 1    192 x 192 x  32 ->  192 x 192 x  32 0.679 BF\n",
      "   5 conv     32       3 x 3/ 1    192 x 192 x  32 ->  192 x 192 x  32 0.679 BF\n",
      "   6 route  5 4 \t                           ->  192 x 192 x  64 \n",
      "   7 conv     64       1 x 1/ 1    192 x 192 x  64 ->  192 x 192 x  64 0.302 BF\n",
      "   8 route  2 7 \t                           ->  192 x 192 x 128 \n",
      "   9 max                2x 2/ 2    192 x 192 x 128 ->   96 x  96 x 128 0.005 BF\n",
      "  10 conv    128       3 x 3/ 1     96 x  96 x 128 ->   96 x  96 x 128 2.718 BF\n",
      "  11 route  10 \t\t                       1/2 ->   96 x  96 x  64 \n",
      "  12 conv     64       3 x 3/ 1     96 x  96 x  64 ->   96 x  96 x  64 0.679 BF\n",
      "  13 conv     64       3 x 3/ 1     96 x  96 x  64 ->   96 x  96 x  64 0.679 BF\n",
      "  14 route  13 12 \t                           ->   96 x  96 x 128 \n",
      "  15 conv    128       1 x 1/ 1     96 x  96 x 128 ->   96 x  96 x 128 0.302 BF\n",
      "  16 route  10 15 \t                           ->   96 x  96 x 256 \n",
      "  17 max                2x 2/ 2     96 x  96 x 256 ->   48 x  48 x 256 0.002 BF\n",
      "  18 conv    256       3 x 3/ 1     48 x  48 x 256 ->   48 x  48 x 256 2.718 BF\n",
      "  19 route  18 \t\t                       1/2 ->   48 x  48 x 128 \n",
      "  20 conv    128       3 x 3/ 1     48 x  48 x 128 ->   48 x  48 x 128 0.679 BF\n",
      "  21 conv    128       3 x 3/ 1     48 x  48 x 128 ->   48 x  48 x 128 0.679 BF\n",
      "  22 route  21 20 \t                           ->   48 x  48 x 256 \n",
      "  23 conv    256       1 x 1/ 1     48 x  48 x 256 ->   48 x  48 x 256 0.302 BF\n",
      "  24 route  18 23 \t                           ->   48 x  48 x 512 \n",
      "  25 max                2x 2/ 2     48 x  48 x 512 ->   24 x  24 x 512 0.001 BF\n",
      "  26 conv    512       3 x 3/ 1     24 x  24 x 512 ->   24 x  24 x 512 2.718 BF\n",
      "  27 conv    256       1 x 1/ 1     24 x  24 x 512 ->   24 x  24 x 256 0.151 BF\n",
      "  28 conv    512       3 x 3/ 1     24 x  24 x 256 ->   24 x  24 x 512 1.359 BF\n",
      "  29 conv     78       1 x 1/ 1     24 x  24 x 512 ->   24 x  24 x  78 0.046 BF\n",
      "  30 yolo\n",
      "[yolo] params: iou loss: ciou (4), iou_norm: 0.07, obj_norm: 1.00, cls_norm: 1.00, delta_norm: 1.00, scale_x_y: 1.05\n",
      "  31 route  27 \t\t                           ->   24 x  24 x 256 \n",
      "  32 conv    128       1 x 1/ 1     24 x  24 x 256 ->   24 x  24 x 128 0.038 BF\n",
      "  33 upsample                 2x    24 x  24 x 128 ->   48 x  48 x 128\n",
      "  34 route  33 23 \t                           ->   48 x  48 x 384 \n",
      "  35 conv    256       3 x 3/ 1     48 x  48 x 384 ->   48 x  48 x 256 4.077 BF\n",
      "  36 conv     78       1 x 1/ 1     48 x  48 x 256 ->   48 x  48 x  78 0.092 BF\n",
      "  37 yolo\n",
      "[yolo] params: iou loss: ciou (4), iou_norm: 0.07, obj_norm: 1.00, cls_norm: 1.00, delta_norm: 1.00, scale_x_y: 1.05\n",
      "  38 route  35 \t\t                           ->   48 x  48 x 256 \n",
      "  39 conv     64       1 x 1/ 1     48 x  48 x 256 ->   48 x  48 x  64 0.075 BF\n",
      "  40 upsample                 2x    48 x  48 x  64 ->   96 x  96 x  64\n",
      "  41 route  40 15 \t                           ->   96 x  96 x 192 \n",
      "  42 conv    128       3 x 3/ 1     96 x  96 x 192 ->   96 x  96 x 128 4.077 BF\n",
      "  43 conv     78       1 x 1/ 1     96 x  96 x 128 ->   96 x  96 x  78 0.184 BF\n",
      "  44 yolo\n",
      "[yolo] params: iou loss: ciou (4), iou_norm: 0.07, obj_norm: 1.00, cls_norm: 1.00, delta_norm: 1.00, scale_x_y: 1.05\n",
      "Total BFLOPS 27.575 \n",
      "avg_outputs = 997120 \n",
      " Allocate additional workspace_size = 680.07 MB \n",
      "Loading weights from backup/yolov4-tiny_dhaka_ai_best.weights...Done! Loaded 45 layers from weights-file \n",
      " Create 6 permanent cpu-threads \n",
      "Saving weights to backup/yolov4-tiny_dhaka_ai_last.weights\n",
      "600Total Detection Time: 49 Seconds\n",
      "Saving weights to backup/yolov4-tiny_dhaka_ai_best.weights\n",
      "Saving weights to backup/yolov4-tiny_dhaka_ai_last.weights\n",
      "600Total Detection Time: 50 Seconds\n",
      "Saving weights to backup/yolov4-tiny_dhaka_ai_last.weights\n",
      "Saving weights to backup/yolov4-tiny_dhaka_ai_last.weights\n",
      "600Total Detection Time: 50 Seconds\n",
      "Saving weights to backup/yolov4-tiny_dhaka_ai_last.weights\n"
     ]
    }
   ],
   "source": [
    "!./darknet detector train data/dhaka_ai.data cfg/yolov4-tiny_dhaka_ai.cfg backup/yolov4-tiny_dhaka_ai_best.weights -dont_show -map >> yolov4-tiny_dhaka_ai_out.txt\n",
    "# !./darknet detector train data/traffic_dhaka_ai.data cfg/dhaka_netv4.cfg backup/dhaka_netv4_last.weights -dont_show -map >> dhaka_netv4_out.txt"
   ]
  },
  {
   "cell_type": "code",
   "execution_count": 1,
   "metadata": {
    "scrolled": true
   },
   "outputs": [],
   "source": [
    "# !./darknet_cpu detector map data/dhaka_ai.data cfg/yolov4-tiny_dhaka_ai.cfg backup/yolov4-tiny_dhaka_ai_best.weights -thresh 0.3"
   ]
  },
  {
   "cell_type": "code",
   "execution_count": 3,
   "metadata": {
    "scrolled": true
   },
   "outputs": [],
   "source": [
    "# !make clean && make"
   ]
  }
 ],
 "metadata": {
  "kernelspec": {
   "display_name": "Python 3",
   "language": "python",
   "name": "python3"
  },
  "language_info": {
   "codemirror_mode": {
    "name": "ipython",
    "version": 3
   },
   "file_extension": ".py",
   "mimetype": "text/x-python",
   "name": "python",
   "nbconvert_exporter": "python",
   "pygments_lexer": "ipython3",
   "version": "3.7.4"
  }
 },
 "nbformat": 4,
 "nbformat_minor": 4
}
